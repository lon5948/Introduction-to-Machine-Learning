{
 "cells": [
  {
   "cell_type": "code",
   "execution_count": 2,
   "metadata": {},
   "outputs": [],
   "source": [
    "import csv\n",
    "import cv2\n",
    "import numpy as np\n",
    "import pandas as pd\n",
    "import random\n",
    "import os\n",
    "\n",
    "import torch\n",
    "import torch.nn as nn\n",
    "from torch.utils.data import Dataset, DataLoader\n"
   ]
  },
  {
   "cell_type": "code",
   "execution_count": 3,
   "metadata": {},
   "outputs": [
    {
     "name": "stdout",
     "output_type": "stream",
     "text": [
      "cuda\n"
     ]
    }
   ],
   "source": [
    "TEST_PATH = \"./dataset/test\"\n",
    "device = torch.device(\"cuda\" if torch.cuda.is_available() else \"cpu\")\n",
    "print(device)"
   ]
  },
  {
   "cell_type": "code",
   "execution_count": 4,
   "metadata": {},
   "outputs": [
    {
     "name": "stdout",
     "output_type": "stream",
     "text": [
      "36\n"
     ]
    }
   ],
   "source": [
    "NUMBER = ['0', '1', '2', '3', '4', '5', '6', '7', '8', '9']\n",
    "ALPHABET = ['a', 'b', 'c', 'd', 'e', 'f', 'g', 'h', 'i', 'j', 'k', 'l', 'm', 'n', 'o', 'p', 'q', 'r', 's', 't', 'u', 'v', 'w', 'x', 'y', 'z']\n",
    "ALL_CHAR_SET = NUMBER + ALPHABET\n",
    "ALL_CHAR_SET_LEN = len(ALL_CHAR_SET)\n",
    "print(ALL_CHAR_SET_LEN)"
   ]
  },
  {
   "cell_type": "code",
   "execution_count": 5,
   "metadata": {},
   "outputs": [],
   "source": [
    "class TaskDataset(Dataset):\n",
    "    def __init__(self, data, root, captcha_len, return_filename=False):\n",
    "        self.data = data\n",
    "        self.return_filename = return_filename\n",
    "        self.root = root\n",
    "        self.captcha_len = captcha_len\n",
    "    \n",
    "    def __getitem__(self, index):\n",
    "        filename, label = self.data[index]\n",
    "        img = cv2.imread(f\"{self.root}/{filename}\", cv2.IMREAD_GRAYSCALE)\n",
    "        #_,img = cv2.threshold(img,180,255,cv2.THRESH_BINARY)\n",
    "        #img = ~img\n",
    "        #img = cv2.erode(img, np.ones((2, 2), np.uint8), iterations = 1)\n",
    "        #img = ~img\n",
    "        #img = scipy.ndimage.median_filter(img, (5, 1))\n",
    "        img = np.array(img)\n",
    "        if self.return_filename:\n",
    "            return torch.FloatTensor(img), filename\n",
    "        else:\n",
    "            return torch.FloatTensor(img), self.one_hot_encode(label)\n",
    "\n",
    "    def __len__(self):\n",
    "        return len(self.data)\n",
    "    \n",
    "    def one_hot_encode(self, label):\n",
    "        onehot = [0] * (ALL_CHAR_SET_LEN * self.captcha_len)\n",
    "        for i, l in enumerate(label):\n",
    "            idx = ALL_CHAR_SET.index(l) + i * ALL_CHAR_SET_LEN\n",
    "            onehot[idx] = 1\n",
    "        return np.array(onehot)"
   ]
  },
  {
   "cell_type": "code",
   "execution_count": 6,
   "metadata": {},
   "outputs": [],
   "source": [
    "class Model(nn.Module):\n",
    "    def __init__(self, output_len):\n",
    "        super(Model, self).__init__()\n",
    "        self.output_len = output_len\n",
    "        self.conv = nn.Sequential(\n",
    "                # batch*1*72*96 / batch*1*72*96\n",
    "                nn.Conv2d(1, 4, 3, padding=(1, 1)),\n",
    "                nn.BatchNorm2d(4),\n",
    "                nn.Conv2d(4, 16, 3, padding=(1, 1)),\n",
    "                nn.MaxPool2d(2, 2),\n",
    "                nn.BatchNorm2d(16),\n",
    "                nn.ReLU(),\n",
    "                # batch*16*36*48\n",
    "                nn.Conv2d(16, 32, 3, padding=(1, 1)),\n",
    "                nn.BatchNorm2d(32),\n",
    "                nn.Conv2d(32, 64, 3, padding=(1, 1)),\n",
    "                nn.MaxPool2d(2, 2),\n",
    "                nn.BatchNorm2d(64),\n",
    "                nn.ReLU(),\n",
    "                # batch*64*18*24\n",
    "                nn.Conv2d(64, 128, 3, padding=(1, 1)),\n",
    "                nn.BatchNorm2d(128),\n",
    "                nn.Conv2d(128, 256, 3, padding=(1, 1)),\n",
    "                nn.MaxPool2d(2, 2),\n",
    "                nn.BatchNorm2d(256),\n",
    "                nn.ReLU(),\n",
    "                # batch*128*9*12\n",
    "                nn.Conv2d(256, 512, 3, padding=(1, 1)),\n",
    "                nn.BatchNorm2d(512),\n",
    "                nn.Conv2d(512, 1024, 3, padding=(1, 1)),\n",
    "                nn.MaxPool2d(2, 2),\n",
    "                nn.BatchNorm2d(1024),\n",
    "                nn.ReLU(),\n",
    "                #batch*512*4*6\n",
    "                #nn.Conv2d(512, 512, 3, padding=(1, 1)),\n",
    "                #nn.MaxPool2d(2, 2),\n",
    "                #nn.BatchNorm2d(512),\n",
    "                #nn.ReLU(),\n",
    "                #batch*512*2*3\n",
    "                )\n",
    "        self.fc = nn.Linear(1024*4*4, 1024)\n",
    "        self.fc_task3 = nn.Linear(1024*4*6, 1024)\n",
    "        self.fc2 = nn.Linear(1024, 256)\n",
    "        self.out = nn.Linear(256, self.output_len)\n",
    "        self.dropout = nn.Dropout(0.2)\n",
    "        \n",
    "    def forward(self, x):\n",
    "        b, h, w = x.shape \n",
    "        x = x.view(b,1,h,w)\n",
    "        x = self.conv(x)\n",
    "        if self.output_len > 100:\n",
    "            x = x.view(-1, 1024*4*6)\n",
    "            x = self.fc_task3(x)\n",
    "        else:\n",
    "            x = x.view(-1, 1024*4*4)\n",
    "            x = self.fc(x)\n",
    "        x = self.dropout(x)\n",
    "        x = self.fc2(x)\n",
    "        x = self.dropout(x)\n",
    "        x = self.out(x)\n",
    "        return x"
   ]
  },
  {
   "cell_type": "code",
   "execution_count": 7,
   "metadata": {},
   "outputs": [],
   "source": [
    "test_data_1 = []\n",
    "test_data_2 = []\n",
    "test_data_3 = []\n",
    "with open(f'{TEST_PATH}/../sample_submission.csv', newline='') as csvfile:\n",
    "    for row in csv.reader(csvfile, delimiter=','):\n",
    "        if row[0].startswith(\"task1\"):\n",
    "            test_data_1.append(row)\n",
    "        elif row[0].startswith(\"task2\"):\n",
    "            test_data_2.append(row)\n",
    "        elif row[0].startswith(\"task3\"):\n",
    "            test_data_3.append(row)\n",
    "\n",
    "test_ds_1 = TaskDataset(test_data_1, root=TEST_PATH, captcha_len=1, return_filename=True)\n",
    "test_dl_1 = DataLoader(test_ds_1, batch_size=100, num_workers=0, drop_last=False, shuffle=False)\n",
    "\n",
    "test_ds_2 = TaskDataset(test_data_2, root=TEST_PATH, captcha_len=2, return_filename=True)\n",
    "test_dl_2 = DataLoader(test_ds_2, batch_size=100, num_workers=0, drop_last=False, shuffle=False)\n",
    "\n",
    "test_ds_3 = TaskDataset(test_data_3, root=TEST_PATH, captcha_len=4, return_filename=True)\n",
    "test_dl_3 = DataLoader(test_ds_3, batch_size=100, num_workers=0, drop_last=False, shuffle=False)"
   ]
  },
  {
   "cell_type": "code",
   "execution_count": 8,
   "metadata": {},
   "outputs": [],
   "source": [
    "PATH_1 = \"task_1_model.pt\"\n",
    "PATH_2 = \"task_2_model.pt\"\n",
    "PATH_3 = \"task_3_model.pt\""
   ]
  },
  {
   "cell_type": "code",
   "execution_count": 9,
   "metadata": {},
   "outputs": [],
   "source": [
    "with open('submission.csv', 'w', newline='') as csvfile:\n",
    "    csv_writer = csv.writer(csvfile)\n",
    "    csv_writer.writerow([\"filename\", \"label\"])"
   ]
  },
  {
   "cell_type": "code",
   "execution_count": 10,
   "metadata": {},
   "outputs": [],
   "source": [
    "model = Model(ALL_CHAR_SET_LEN*1).to(device)\n",
    "checkpoint = torch.load(PATH_1)\n",
    "model.load_state_dict(checkpoint['model_state_dict'])\n",
    "model.eval()\n",
    "with open('submission.csv', 'a', newline='') as csvfile:\n",
    "    csv_writer = csv.writer(csvfile)\n",
    "    for image, filenames in test_dl_1:\n",
    "        image = image.to(device)\n",
    "        pred = model(image)\n",
    "        p1 = torch.argmax(pred.T[0:10], dim=0)\n",
    "        for i in range(len(filenames)):\n",
    "            ans = ALL_CHAR_SET[p1[i].item()]\n",
    "            csv_writer.writerow([filenames[i], ans])"
   ]
  },
  {
   "cell_type": "code",
   "execution_count": 11,
   "metadata": {},
   "outputs": [],
   "source": [
    "model = Model(ALL_CHAR_SET_LEN*2).to(device)\n",
    "checkpoint = torch.load(PATH_2)\n",
    "model.load_state_dict(checkpoint['model_state_dict'])\n",
    "model.eval()\n",
    "with open('submission.csv', 'a', newline='') as csvfile:\n",
    "    csv_writer = csv.writer(csvfile)\n",
    "    for image, filenames in test_dl_2:\n",
    "        image = image.to(device)\n",
    "        pred = model(image)\n",
    "        p1 = torch.argmax(pred.T[0:ALL_CHAR_SET_LEN], dim=0)\n",
    "        p2 = torch.argmax(pred.T[ALL_CHAR_SET_LEN:ALL_CHAR_SET_LEN*2], dim=0)\n",
    "        for i in range(len(filenames)):\n",
    "            ans = ALL_CHAR_SET[p1[i].item()] + ALL_CHAR_SET[p2[i].item()]\n",
    "            csv_writer.writerow([filenames[i], ans])"
   ]
  },
  {
   "cell_type": "code",
   "execution_count": 12,
   "metadata": {},
   "outputs": [],
   "source": [
    "model = Model(ALL_CHAR_SET_LEN*4).to(device)\n",
    "checkpoint = torch.load(PATH_3)\n",
    "model.load_state_dict(checkpoint['model_state_dict'])\n",
    "model.eval()\n",
    "with open('submission.csv', 'a', newline='') as csvfile:\n",
    "    csv_writer = csv.writer(csvfile)\n",
    "    for image, filenames in test_dl_3:\n",
    "        image = image.to(device)\n",
    "        pred = model(image)\n",
    "        p1 = torch.argmax(pred.T[0:ALL_CHAR_SET_LEN], dim=0)\n",
    "        p2 = torch.argmax(pred.T[ALL_CHAR_SET_LEN:ALL_CHAR_SET_LEN*2], dim=0)\n",
    "        p3 = torch.argmax(pred.T[ALL_CHAR_SET_LEN*2:ALL_CHAR_SET_LEN*3], dim=0)\n",
    "        p4 = torch.argmax(pred.T[ALL_CHAR_SET_LEN*3:ALL_CHAR_SET_LEN*4], dim=0)\n",
    "        for i in range(len(filenames)):\n",
    "            ans = ALL_CHAR_SET[p1[i].item()] + ALL_CHAR_SET[p2[i].item()] + ALL_CHAR_SET[p3[i].item()] + ALL_CHAR_SET[p4[i].item()]\n",
    "            csv_writer.writerow([filenames[i], ans])"
   ]
  }
 ],
 "metadata": {
  "kernelspec": {
   "display_name": "base",
   "language": "python",
   "name": "python3"
  },
  "language_info": {
   "codemirror_mode": {
    "name": "ipython",
    "version": 3
   },
   "file_extension": ".py",
   "mimetype": "text/x-python",
   "name": "python",
   "nbconvert_exporter": "python",
   "pygments_lexer": "ipython3",
   "version": "3.7.10 (default, Feb 26 2021, 13:06:18) [MSC v.1916 64 bit (AMD64)]"
  },
  "orig_nbformat": 4,
  "vscode": {
   "interpreter": {
    "hash": "a077222d77dfe082b8f1dd562ad70e458ac2ab76993a0b248ab0476e32e9e8dd"
   }
  }
 },
 "nbformat": 4,
 "nbformat_minor": 2
}
